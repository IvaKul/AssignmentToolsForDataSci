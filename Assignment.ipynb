{
  "metadata": {
    "language_info": {
      "codemirror_mode": {
        "name": "python",
        "version": 3
      },
      "file_extension": ".py",
      "mimetype": "text/x-python",
      "name": "python",
      "nbconvert_exporter": "python",
      "pygments_lexer": "ipython3",
      "version": "3.8"
    },
    "kernelspec": {
      "name": "python",
      "display_name": "Pyolite",
      "language": "python"
    }
  },
  "nbformat_minor": 4,
  "nbformat": 4,
  "cells": [
    {
      "cell_type": "markdown",
      "source": "# My Jupyter Notebook on IBM Watson Studio",
      "metadata": {}
    },
    {
      "cell_type": "markdown",
      "source": "**Iva Kulesevic**",
      "metadata": {}
    },
    {
      "cell_type": "markdown",
      "source": "I am a MA student of social scineces and social research.",
      "metadata": {}
    },
    {
      "cell_type": "markdown",
      "source": "*I am interested in data science because it requires combining rationality and creativity.*",
      "metadata": {}
    },
    {
      "cell_type": "markdown",
      "source": "### This code calculates (1+1)*7",
      "metadata": {}
    },
    {
      "cell_type": "code",
      "source": "(1+1)*7",
      "metadata": {
        "trusted": true
      },
      "execution_count": 2,
      "outputs": [
        {
          "execution_count": 2,
          "output_type": "execute_result",
          "data": {
            "text/plain": "14"
          },
          "metadata": {}
        }
      ]
    },
    {
      "cell_type": "markdown",
      "source": "1. One\n2. Two\n3. Three\n4. Four\n5. Five",
      "metadata": {}
    },
    {
      "cell_type": "markdown",
      "source": "***\nHorizontal line (rules)\n***",
      "metadata": {}
    },
    {
      "cell_type": "markdown",
      "source": "Coursera website can be found at <a href=\"https://www.coursera.org/\" target=\"_blank\">this link</a>.",
      "metadata": {}
    },
    {
      "cell_type": "code",
      "source": "",
      "metadata": {},
      "execution_count": null,
      "outputs": []
    },
    {
      "cell_type": "code",
      "source": "",
      "metadata": {},
      "execution_count": null,
      "outputs": []
    }
  ]
}